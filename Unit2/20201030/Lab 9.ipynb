{
 "cells": [
  {
   "cell_type": "code",
   "execution_count": 15,
   "metadata": {},
   "outputs": [],
   "source": [
    "import pymysql\n",
    "from sqlalchemy import create_engine\n",
    "import pandas as pd"
   ]
  },
  {
   "cell_type": "code",
   "execution_count": 2,
   "metadata": {},
   "outputs": [
    {
     "name": "stdout",
     "output_type": "stream",
     "text": [
      "········\n"
     ]
    }
   ],
   "source": [
    "import getpass\n",
    "password = getpass.getpass()"
   ]
  },
  {
   "cell_type": "code",
   "execution_count": 3,
   "metadata": {},
   "outputs": [],
   "source": [
    "connection_string = \"mysql+pymysql://root:\" + password + \"@localhost/sakila\" "
   ]
  },
  {
   "cell_type": "code",
   "execution_count": 7,
   "metadata": {},
   "outputs": [],
   "source": [
    "engine = create_engine(connection_string)"
   ]
  },
  {
   "cell_type": "code",
   "execution_count": 31,
   "metadata": {},
   "outputs": [
    {
     "data": {
      "text/plain": [
       "<sqlalchemy.engine.result.ResultProxy at 0x11a444eb0>"
      ]
     },
     "execution_count": 31,
     "metadata": {},
     "output_type": "execute_result"
    }
   ],
   "source": [
    "#Create a table rentals_may to store the data from rental table with information for the month of May.\n",
    "engine.execute (\"CREATE TABLE IF NOT EXISTS rentals_may SELECT * FROM rental LIMIT 0\")"
   ]
  },
  {
   "cell_type": "code",
   "execution_count": 30,
   "metadata": {},
   "outputs": [
    {
     "data": {
      "text/plain": [
       "<sqlalchemy.engine.result.ResultProxy at 0x11a444ca0>"
      ]
     },
     "execution_count": 30,
     "metadata": {},
     "output_type": "execute_result"
    }
   ],
   "source": [
    "engine.execute (\"DROP TABLE rentals_may\")"
   ]
  },
  {
   "cell_type": "code",
   "execution_count": 32,
   "metadata": {},
   "outputs": [
    {
     "data": {
      "text/html": [
       "<div>\n",
       "<style scoped>\n",
       "    .dataframe tbody tr th:only-of-type {\n",
       "        vertical-align: middle;\n",
       "    }\n",
       "\n",
       "    .dataframe tbody tr th {\n",
       "        vertical-align: top;\n",
       "    }\n",
       "\n",
       "    .dataframe thead th {\n",
       "        text-align: right;\n",
       "    }\n",
       "</style>\n",
       "<table border=\"1\" class=\"dataframe\">\n",
       "  <thead>\n",
       "    <tr style=\"text-align: right;\">\n",
       "      <th></th>\n",
       "      <th>rental_id</th>\n",
       "      <th>rental_date</th>\n",
       "      <th>inventory_id</th>\n",
       "      <th>customer_id</th>\n",
       "      <th>return_date</th>\n",
       "      <th>staff_id</th>\n",
       "      <th>last_update</th>\n",
       "    </tr>\n",
       "  </thead>\n",
       "  <tbody>\n",
       "  </tbody>\n",
       "</table>\n",
       "</div>"
      ],
      "text/plain": [
       "Empty DataFrame\n",
       "Columns: [rental_id, rental_date, inventory_id, customer_id, return_date, staff_id, last_update]\n",
       "Index: []"
      ]
     },
     "execution_count": 32,
     "metadata": {},
     "output_type": "execute_result"
    }
   ],
   "source": [
    "#Insert values in the table rentals_may using the table rental, filtering values only for the month of May.\n",
    "pd.read_sql(\"SELECT * FROM rentals_may\", engine)\n"
   ]
  },
  {
   "cell_type": "code",
   "execution_count": 37,
   "metadata": {},
   "outputs": [
    {
     "data": {
      "text/plain": [
       "<sqlalchemy.engine.result.ResultProxy at 0x10d4c9400>"
      ]
     },
     "execution_count": 37,
     "metadata": {},
     "output_type": "execute_result"
    }
   ],
   "source": [
    "engine.execute(\"\"\"INSERT INTO rentals_may SELECT * \n",
    "FROM rental \n",
    "WHERE rental_date BETWEEN '2005_05_01' AND '2005_06_01'\"\"\")"
   ]
  },
  {
   "cell_type": "code",
   "execution_count": 38,
   "metadata": {},
   "outputs": [
    {
     "data": {
      "text/html": [
       "<div>\n",
       "<style scoped>\n",
       "    .dataframe tbody tr th:only-of-type {\n",
       "        vertical-align: middle;\n",
       "    }\n",
       "\n",
       "    .dataframe tbody tr th {\n",
       "        vertical-align: top;\n",
       "    }\n",
       "\n",
       "    .dataframe thead th {\n",
       "        text-align: right;\n",
       "    }\n",
       "</style>\n",
       "<table border=\"1\" class=\"dataframe\">\n",
       "  <thead>\n",
       "    <tr style=\"text-align: right;\">\n",
       "      <th></th>\n",
       "      <th>rental_id</th>\n",
       "      <th>rental_date</th>\n",
       "      <th>inventory_id</th>\n",
       "      <th>customer_id</th>\n",
       "      <th>return_date</th>\n",
       "      <th>staff_id</th>\n",
       "      <th>last_update</th>\n",
       "    </tr>\n",
       "  </thead>\n",
       "  <tbody>\n",
       "    <tr>\n",
       "      <th>0</th>\n",
       "      <td>1</td>\n",
       "      <td>2005-05-24 22:53:30</td>\n",
       "      <td>367</td>\n",
       "      <td>130</td>\n",
       "      <td>2005-05-26 22:04:30</td>\n",
       "      <td>1</td>\n",
       "      <td>2006-02-15 21:30:53</td>\n",
       "    </tr>\n",
       "    <tr>\n",
       "      <th>1</th>\n",
       "      <td>2</td>\n",
       "      <td>2005-05-24 22:54:33</td>\n",
       "      <td>1525</td>\n",
       "      <td>459</td>\n",
       "      <td>2005-05-28 19:40:33</td>\n",
       "      <td>1</td>\n",
       "      <td>2006-02-15 21:30:53</td>\n",
       "    </tr>\n",
       "    <tr>\n",
       "      <th>2</th>\n",
       "      <td>3</td>\n",
       "      <td>2005-05-24 23:03:39</td>\n",
       "      <td>1711</td>\n",
       "      <td>408</td>\n",
       "      <td>2005-06-01 22:12:39</td>\n",
       "      <td>1</td>\n",
       "      <td>2006-02-15 21:30:53</td>\n",
       "    </tr>\n",
       "    <tr>\n",
       "      <th>3</th>\n",
       "      <td>4</td>\n",
       "      <td>2005-05-24 23:04:41</td>\n",
       "      <td>2452</td>\n",
       "      <td>333</td>\n",
       "      <td>2005-06-03 01:43:41</td>\n",
       "      <td>2</td>\n",
       "      <td>2006-02-15 21:30:53</td>\n",
       "    </tr>\n",
       "    <tr>\n",
       "      <th>4</th>\n",
       "      <td>5</td>\n",
       "      <td>2005-05-24 23:05:21</td>\n",
       "      <td>2079</td>\n",
       "      <td>222</td>\n",
       "      <td>2005-06-02 04:33:21</td>\n",
       "      <td>1</td>\n",
       "      <td>2006-02-15 21:30:53</td>\n",
       "    </tr>\n",
       "    <tr>\n",
       "      <th>...</th>\n",
       "      <td>...</td>\n",
       "      <td>...</td>\n",
       "      <td>...</td>\n",
       "      <td>...</td>\n",
       "      <td>...</td>\n",
       "      <td>...</td>\n",
       "      <td>...</td>\n",
       "    </tr>\n",
       "    <tr>\n",
       "      <th>1151</th>\n",
       "      <td>1153</td>\n",
       "      <td>2005-05-31 21:36:44</td>\n",
       "      <td>2725</td>\n",
       "      <td>506</td>\n",
       "      <td>2005-06-10 01:26:44</td>\n",
       "      <td>2</td>\n",
       "      <td>2006-02-15 21:30:53</td>\n",
       "    </tr>\n",
       "    <tr>\n",
       "      <th>1152</th>\n",
       "      <td>1154</td>\n",
       "      <td>2005-05-31 21:42:09</td>\n",
       "      <td>2732</td>\n",
       "      <td>59</td>\n",
       "      <td>2005-06-08 16:40:09</td>\n",
       "      <td>1</td>\n",
       "      <td>2006-02-15 21:30:53</td>\n",
       "    </tr>\n",
       "    <tr>\n",
       "      <th>1153</th>\n",
       "      <td>1155</td>\n",
       "      <td>2005-05-31 22:17:11</td>\n",
       "      <td>2048</td>\n",
       "      <td>251</td>\n",
       "      <td>2005-06-04 20:27:11</td>\n",
       "      <td>2</td>\n",
       "      <td>2006-02-15 21:30:53</td>\n",
       "    </tr>\n",
       "    <tr>\n",
       "      <th>1154</th>\n",
       "      <td>1156</td>\n",
       "      <td>2005-05-31 22:37:34</td>\n",
       "      <td>460</td>\n",
       "      <td>106</td>\n",
       "      <td>2005-06-01 23:02:34</td>\n",
       "      <td>2</td>\n",
       "      <td>2006-02-15 21:30:53</td>\n",
       "    </tr>\n",
       "    <tr>\n",
       "      <th>1155</th>\n",
       "      <td>1157</td>\n",
       "      <td>2005-05-31 22:47:45</td>\n",
       "      <td>1449</td>\n",
       "      <td>61</td>\n",
       "      <td>2005-06-02 18:01:45</td>\n",
       "      <td>1</td>\n",
       "      <td>2006-02-15 21:30:53</td>\n",
       "    </tr>\n",
       "  </tbody>\n",
       "</table>\n",
       "<p>1156 rows × 7 columns</p>\n",
       "</div>"
      ],
      "text/plain": [
       "      rental_id         rental_date  inventory_id  customer_id  \\\n",
       "0             1 2005-05-24 22:53:30           367          130   \n",
       "1             2 2005-05-24 22:54:33          1525          459   \n",
       "2             3 2005-05-24 23:03:39          1711          408   \n",
       "3             4 2005-05-24 23:04:41          2452          333   \n",
       "4             5 2005-05-24 23:05:21          2079          222   \n",
       "...         ...                 ...           ...          ...   \n",
       "1151       1153 2005-05-31 21:36:44          2725          506   \n",
       "1152       1154 2005-05-31 21:42:09          2732           59   \n",
       "1153       1155 2005-05-31 22:17:11          2048          251   \n",
       "1154       1156 2005-05-31 22:37:34           460          106   \n",
       "1155       1157 2005-05-31 22:47:45          1449           61   \n",
       "\n",
       "             return_date  staff_id         last_update  \n",
       "0    2005-05-26 22:04:30         1 2006-02-15 21:30:53  \n",
       "1    2005-05-28 19:40:33         1 2006-02-15 21:30:53  \n",
       "2    2005-06-01 22:12:39         1 2006-02-15 21:30:53  \n",
       "3    2005-06-03 01:43:41         2 2006-02-15 21:30:53  \n",
       "4    2005-06-02 04:33:21         1 2006-02-15 21:30:53  \n",
       "...                  ...       ...                 ...  \n",
       "1151 2005-06-10 01:26:44         2 2006-02-15 21:30:53  \n",
       "1152 2005-06-08 16:40:09         1 2006-02-15 21:30:53  \n",
       "1153 2005-06-04 20:27:11         2 2006-02-15 21:30:53  \n",
       "1154 2005-06-01 23:02:34         2 2006-02-15 21:30:53  \n",
       "1155 2005-06-02 18:01:45         1 2006-02-15 21:30:53  \n",
       "\n",
       "[1156 rows x 7 columns]"
      ]
     },
     "execution_count": 38,
     "metadata": {},
     "output_type": "execute_result"
    }
   ],
   "source": [
    "pd.read_sql(\"SELECT * FROM rentals_may\", engine)\n"
   ]
  },
  {
   "cell_type": "code",
   "execution_count": 39,
   "metadata": {},
   "outputs": [],
   "source": [
    "#Create a table rentals_june to store the data from rental table with information for the month of June.\n",
    "#Insert values in the table rentals_june using the table rental, filtering values only for the month of June."
   ]
  },
  {
   "cell_type": "code",
   "execution_count": 40,
   "metadata": {},
   "outputs": [
    {
     "data": {
      "text/plain": [
       "<sqlalchemy.engine.result.ResultProxy at 0x11a53aeb0>"
      ]
     },
     "execution_count": 40,
     "metadata": {},
     "output_type": "execute_result"
    }
   ],
   "source": [
    "engine.execute (\"CREATE TABLE IF NOT EXISTS rentals_june SELECT * FROM rental LIMIT 0\")"
   ]
  },
  {
   "cell_type": "code",
   "execution_count": 41,
   "metadata": {},
   "outputs": [
    {
     "data": {
      "text/html": [
       "<div>\n",
       "<style scoped>\n",
       "    .dataframe tbody tr th:only-of-type {\n",
       "        vertical-align: middle;\n",
       "    }\n",
       "\n",
       "    .dataframe tbody tr th {\n",
       "        vertical-align: top;\n",
       "    }\n",
       "\n",
       "    .dataframe thead th {\n",
       "        text-align: right;\n",
       "    }\n",
       "</style>\n",
       "<table border=\"1\" class=\"dataframe\">\n",
       "  <thead>\n",
       "    <tr style=\"text-align: right;\">\n",
       "      <th></th>\n",
       "      <th>rental_id</th>\n",
       "      <th>rental_date</th>\n",
       "      <th>inventory_id</th>\n",
       "      <th>customer_id</th>\n",
       "      <th>return_date</th>\n",
       "      <th>staff_id</th>\n",
       "      <th>last_update</th>\n",
       "    </tr>\n",
       "  </thead>\n",
       "  <tbody>\n",
       "  </tbody>\n",
       "</table>\n",
       "</div>"
      ],
      "text/plain": [
       "Empty DataFrame\n",
       "Columns: [rental_id, rental_date, inventory_id, customer_id, return_date, staff_id, last_update]\n",
       "Index: []"
      ]
     },
     "execution_count": 41,
     "metadata": {},
     "output_type": "execute_result"
    }
   ],
   "source": [
    "pd.read_sql(\"SELECT * FROM rentals_june\", engine)"
   ]
  },
  {
   "cell_type": "code",
   "execution_count": 42,
   "metadata": {},
   "outputs": [
    {
     "data": {
      "text/plain": [
       "<sqlalchemy.engine.result.ResultProxy at 0x11a53aac0>"
      ]
     },
     "execution_count": 42,
     "metadata": {},
     "output_type": "execute_result"
    }
   ],
   "source": [
    "engine.execute(\"\"\"INSERT INTO rentals_june SELECT * \n",
    "FROM rental \n",
    "WHERE rental_date BETWEEN '2005_06_01' AND '2005_07_01'\"\"\")"
   ]
  },
  {
   "cell_type": "code",
   "execution_count": 44,
   "metadata": {},
   "outputs": [
    {
     "data": {
      "text/html": [
       "<div>\n",
       "<style scoped>\n",
       "    .dataframe tbody tr th:only-of-type {\n",
       "        vertical-align: middle;\n",
       "    }\n",
       "\n",
       "    .dataframe tbody tr th {\n",
       "        vertical-align: top;\n",
       "    }\n",
       "\n",
       "    .dataframe thead th {\n",
       "        text-align: right;\n",
       "    }\n",
       "</style>\n",
       "<table border=\"1\" class=\"dataframe\">\n",
       "  <thead>\n",
       "    <tr style=\"text-align: right;\">\n",
       "      <th></th>\n",
       "      <th>rental_id</th>\n",
       "      <th>rental_date</th>\n",
       "      <th>inventory_id</th>\n",
       "      <th>customer_id</th>\n",
       "      <th>return_date</th>\n",
       "      <th>staff_id</th>\n",
       "      <th>last_update</th>\n",
       "    </tr>\n",
       "  </thead>\n",
       "  <tbody>\n",
       "    <tr>\n",
       "      <th>0</th>\n",
       "      <td>1158</td>\n",
       "      <td>2005-06-14 22:53:33</td>\n",
       "      <td>1632</td>\n",
       "      <td>416</td>\n",
       "      <td>2005-06-18 21:37:33</td>\n",
       "      <td>2</td>\n",
       "      <td>2006-02-15 21:30:53</td>\n",
       "    </tr>\n",
       "    <tr>\n",
       "      <th>1</th>\n",
       "      <td>1159</td>\n",
       "      <td>2005-06-14 22:55:13</td>\n",
       "      <td>4395</td>\n",
       "      <td>516</td>\n",
       "      <td>2005-06-17 02:11:13</td>\n",
       "      <td>1</td>\n",
       "      <td>2006-02-15 21:30:53</td>\n",
       "    </tr>\n",
       "    <tr>\n",
       "      <th>2</th>\n",
       "      <td>1160</td>\n",
       "      <td>2005-06-14 23:00:34</td>\n",
       "      <td>2795</td>\n",
       "      <td>239</td>\n",
       "      <td>2005-06-18 01:58:34</td>\n",
       "      <td>2</td>\n",
       "      <td>2006-02-15 21:30:53</td>\n",
       "    </tr>\n",
       "    <tr>\n",
       "      <th>3</th>\n",
       "      <td>1161</td>\n",
       "      <td>2005-06-14 23:07:08</td>\n",
       "      <td>1690</td>\n",
       "      <td>285</td>\n",
       "      <td>2005-06-21 17:12:08</td>\n",
       "      <td>1</td>\n",
       "      <td>2006-02-15 21:30:53</td>\n",
       "    </tr>\n",
       "    <tr>\n",
       "      <th>4</th>\n",
       "      <td>1162</td>\n",
       "      <td>2005-06-14 23:09:38</td>\n",
       "      <td>987</td>\n",
       "      <td>310</td>\n",
       "      <td>2005-06-23 22:00:38</td>\n",
       "      <td>1</td>\n",
       "      <td>2006-02-15 21:30:53</td>\n",
       "    </tr>\n",
       "    <tr>\n",
       "      <th>...</th>\n",
       "      <td>...</td>\n",
       "      <td>...</td>\n",
       "      <td>...</td>\n",
       "      <td>...</td>\n",
       "      <td>...</td>\n",
       "      <td>...</td>\n",
       "      <td>...</td>\n",
       "    </tr>\n",
       "    <tr>\n",
       "      <th>2306</th>\n",
       "      <td>3465</td>\n",
       "      <td>2005-06-21 22:10:01</td>\n",
       "      <td>1488</td>\n",
       "      <td>510</td>\n",
       "      <td>2005-06-30 21:35:01</td>\n",
       "      <td>1</td>\n",
       "      <td>2006-02-15 21:30:53</td>\n",
       "    </tr>\n",
       "    <tr>\n",
       "      <th>2307</th>\n",
       "      <td>3466</td>\n",
       "      <td>2005-06-21 22:13:33</td>\n",
       "      <td>371</td>\n",
       "      <td>226</td>\n",
       "      <td>2005-06-25 21:01:33</td>\n",
       "      <td>2</td>\n",
       "      <td>2006-02-15 21:30:53</td>\n",
       "    </tr>\n",
       "    <tr>\n",
       "      <th>2308</th>\n",
       "      <td>3467</td>\n",
       "      <td>2005-06-21 22:19:25</td>\n",
       "      <td>729</td>\n",
       "      <td>543</td>\n",
       "      <td>2005-06-27 00:03:25</td>\n",
       "      <td>2</td>\n",
       "      <td>2006-02-15 21:30:53</td>\n",
       "    </tr>\n",
       "    <tr>\n",
       "      <th>2309</th>\n",
       "      <td>3468</td>\n",
       "      <td>2005-06-21 22:43:45</td>\n",
       "      <td>2899</td>\n",
       "      <td>100</td>\n",
       "      <td>2005-06-30 01:49:45</td>\n",
       "      <td>1</td>\n",
       "      <td>2006-02-15 21:30:53</td>\n",
       "    </tr>\n",
       "    <tr>\n",
       "      <th>2310</th>\n",
       "      <td>3469</td>\n",
       "      <td>2005-06-21 22:48:59</td>\n",
       "      <td>4087</td>\n",
       "      <td>181</td>\n",
       "      <td>2005-06-28 19:32:59</td>\n",
       "      <td>1</td>\n",
       "      <td>2006-02-15 21:30:53</td>\n",
       "    </tr>\n",
       "  </tbody>\n",
       "</table>\n",
       "<p>2311 rows × 7 columns</p>\n",
       "</div>"
      ],
      "text/plain": [
       "      rental_id         rental_date  inventory_id  customer_id  \\\n",
       "0          1158 2005-06-14 22:53:33          1632          416   \n",
       "1          1159 2005-06-14 22:55:13          4395          516   \n",
       "2          1160 2005-06-14 23:00:34          2795          239   \n",
       "3          1161 2005-06-14 23:07:08          1690          285   \n",
       "4          1162 2005-06-14 23:09:38           987          310   \n",
       "...         ...                 ...           ...          ...   \n",
       "2306       3465 2005-06-21 22:10:01          1488          510   \n",
       "2307       3466 2005-06-21 22:13:33           371          226   \n",
       "2308       3467 2005-06-21 22:19:25           729          543   \n",
       "2309       3468 2005-06-21 22:43:45          2899          100   \n",
       "2310       3469 2005-06-21 22:48:59          4087          181   \n",
       "\n",
       "             return_date  staff_id         last_update  \n",
       "0    2005-06-18 21:37:33         2 2006-02-15 21:30:53  \n",
       "1    2005-06-17 02:11:13         1 2006-02-15 21:30:53  \n",
       "2    2005-06-18 01:58:34         2 2006-02-15 21:30:53  \n",
       "3    2005-06-21 17:12:08         1 2006-02-15 21:30:53  \n",
       "4    2005-06-23 22:00:38         1 2006-02-15 21:30:53  \n",
       "...                  ...       ...                 ...  \n",
       "2306 2005-06-30 21:35:01         1 2006-02-15 21:30:53  \n",
       "2307 2005-06-25 21:01:33         2 2006-02-15 21:30:53  \n",
       "2308 2005-06-27 00:03:25         2 2006-02-15 21:30:53  \n",
       "2309 2005-06-30 01:49:45         1 2006-02-15 21:30:53  \n",
       "2310 2005-06-28 19:32:59         1 2006-02-15 21:30:53  \n",
       "\n",
       "[2311 rows x 7 columns]"
      ]
     },
     "execution_count": 44,
     "metadata": {},
     "output_type": "execute_result"
    }
   ],
   "source": [
    "pd.read_sql(\"SELECT * FROM rentals_june ORDER BY rental_date\", engine)"
   ]
  },
  {
   "cell_type": "code",
   "execution_count": 53,
   "metadata": {},
   "outputs": [],
   "source": [
    "#Check the number of rentals for each customer for May.\n",
    "A = engine.execute(\"\"\" SELECT customer_id, COUNT(rental_id) \n",
    "FROM rentals_may\n",
    "GROUP BY customer_id\"\"\")"
   ]
  },
  {
   "cell_type": "code",
   "execution_count": 60,
   "metadata": {},
   "outputs": [],
   "source": [
    "DFMay = pd.read_sql(\"\"\" SELECT customer_id, COUNT(rental_id) as cri\n",
    "FROM rentals_may\n",
    "GROUP BY customer_id ORDER BY cri DESC\"\"\", engine)"
   ]
  },
  {
   "cell_type": "code",
   "execution_count": 58,
   "metadata": {},
   "outputs": [],
   "source": [
    "#Check the number of rentals for each customer for June."
   ]
  },
  {
   "cell_type": "code",
   "execution_count": 61,
   "metadata": {},
   "outputs": [],
   "source": [
    "DFJune = pd.read_sql(\"\"\" SELECT customer_id, COUNT(rental_id) as cri\n",
    "FROM rentals_june\n",
    "GROUP BY customer_id ORDER BY cri DESC\"\"\", engine)"
   ]
  },
  {
   "cell_type": "code",
   "execution_count": 62,
   "metadata": {},
   "outputs": [
    {
     "data": {
      "text/html": [
       "<div>\n",
       "<style scoped>\n",
       "    .dataframe tbody tr th:only-of-type {\n",
       "        vertical-align: middle;\n",
       "    }\n",
       "\n",
       "    .dataframe tbody tr th {\n",
       "        vertical-align: top;\n",
       "    }\n",
       "\n",
       "    .dataframe thead th {\n",
       "        text-align: right;\n",
       "    }\n",
       "</style>\n",
       "<table border=\"1\" class=\"dataframe\">\n",
       "  <thead>\n",
       "    <tr style=\"text-align: right;\">\n",
       "      <th></th>\n",
       "      <th>customer_id</th>\n",
       "      <th>cri</th>\n",
       "    </tr>\n",
       "  </thead>\n",
       "  <tbody>\n",
       "    <tr>\n",
       "      <th>0</th>\n",
       "      <td>31</td>\n",
       "      <td>11</td>\n",
       "    </tr>\n",
       "    <tr>\n",
       "      <th>1</th>\n",
       "      <td>454</td>\n",
       "      <td>10</td>\n",
       "    </tr>\n",
       "    <tr>\n",
       "      <th>2</th>\n",
       "      <td>329</td>\n",
       "      <td>9</td>\n",
       "    </tr>\n",
       "    <tr>\n",
       "      <th>3</th>\n",
       "      <td>295</td>\n",
       "      <td>9</td>\n",
       "    </tr>\n",
       "    <tr>\n",
       "      <th>4</th>\n",
       "      <td>561</td>\n",
       "      <td>9</td>\n",
       "    </tr>\n",
       "    <tr>\n",
       "      <th>...</th>\n",
       "      <td>...</td>\n",
       "      <td>...</td>\n",
       "    </tr>\n",
       "    <tr>\n",
       "      <th>585</th>\n",
       "      <td>425</td>\n",
       "      <td>1</td>\n",
       "    </tr>\n",
       "    <tr>\n",
       "      <th>586</th>\n",
       "      <td>412</td>\n",
       "      <td>1</td>\n",
       "    </tr>\n",
       "    <tr>\n",
       "      <th>587</th>\n",
       "      <td>335</td>\n",
       "      <td>1</td>\n",
       "    </tr>\n",
       "    <tr>\n",
       "      <th>588</th>\n",
       "      <td>22</td>\n",
       "      <td>1</td>\n",
       "    </tr>\n",
       "    <tr>\n",
       "      <th>589</th>\n",
       "      <td>126</td>\n",
       "      <td>1</td>\n",
       "    </tr>\n",
       "  </tbody>\n",
       "</table>\n",
       "<p>590 rows × 2 columns</p>\n",
       "</div>"
      ],
      "text/plain": [
       "     customer_id  cri\n",
       "0             31   11\n",
       "1            454   10\n",
       "2            329    9\n",
       "3            295    9\n",
       "4            561    9\n",
       "..           ...  ...\n",
       "585          425    1\n",
       "586          412    1\n",
       "587          335    1\n",
       "588           22    1\n",
       "589          126    1\n",
       "\n",
       "[590 rows x 2 columns]"
      ]
     },
     "execution_count": 62,
     "metadata": {},
     "output_type": "execute_result"
    }
   ],
   "source": [
    "DFJune"
   ]
  },
  {
   "cell_type": "code",
   "execution_count": 63,
   "metadata": {},
   "outputs": [],
   "source": [
    "#Write a function that checks if customer borrowed more or less books in the month of June as compared to May."
   ]
  },
  {
   "cell_type": "code",
   "execution_count": null,
   "metadata": {},
   "outputs": [],
   "source": []
  }
 ],
 "metadata": {
  "kernelspec": {
   "display_name": "Python 3",
   "language": "python",
   "name": "python3"
  },
  "language_info": {
   "codemirror_mode": {
    "name": "ipython",
    "version": 3
   },
   "file_extension": ".py",
   "mimetype": "text/x-python",
   "name": "python",
   "nbconvert_exporter": "python",
   "pygments_lexer": "ipython3",
   "version": "3.8.3"
  }
 },
 "nbformat": 4,
 "nbformat_minor": 4
}
